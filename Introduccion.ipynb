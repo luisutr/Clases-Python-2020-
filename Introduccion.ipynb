{
  "nbformat": 4,
  "nbformat_minor": 0,
  "metadata": {
    "colab": {
      "name": "Introduccion.ipynb",
      "provenance": [],
      "mount_file_id": "1k3ta-jQ73b_9qop0KxSvhbXQgfew4hG6",
      "authorship_tag": "ABX9TyNFbNsnhZ75uQ58Iafat/Jz",
      "include_colab_link": true
    },
    "kernelspec": {
      "name": "python3",
      "display_name": "Python 3"
    }
  },
  "cells": [
    {
      "cell_type": "markdown",
      "metadata": {
        "id": "view-in-github",
        "colab_type": "text"
      },
      "source": [
        "<a href=\"https://colab.research.google.com/github/luisutr/Clases-Python-2020-/blob/main/Introduccion.ipynb\" target=\"_parent\"><img src=\"https://colab.research.google.com/assets/colab-badge.svg\" alt=\"Open In Colab\"/></a>"
      ]
    },
    {
      "cell_type": "code",
      "metadata": {
        "id": "8Lk3DRXt_YxC"
      },
      "source": [
        ""
      ],
      "execution_count": null,
      "outputs": []
    },
    {
      "cell_type": "markdown",
      "metadata": {
        "id": "GKpqsQz1_2z8"
      },
      "source": [
        "PSEUDOCODIGO: Hacer el programa en lenguaje castellano !! con  nuestras palabras. (logica) y despues lo traducis a Python \n",
        "\n",
        "DEBEMOS SER MERAMENTE ESCRUPULOSOS CON LA SINTAXIS\n",
        "\n",
        "**FUNCIONES**: Lo que encapsula el código \n",
        "\n",
        "    **ENTRADAS**: argumentos de entrada, o que el mismo programa pueda leer datos de algun sitio \n",
        "    \n",
        "    **SALIDAS**: Pueden ser que se muestren (resultado) puden ser devueltas a otra función \n",
        "\n",
        "**VARIBALES**: Guarda la información (distintos tipos int, string, boolean, float... )\n",
        "    - conjutnos de variables (list, dicc, tuplas)\n",
        "\n",
        "**CONDICIONALES**: if, else, elseif  ( si una variable x toma un valor superior a 10 entonces a otra variable y le asingo un valor)\n",
        "\n",
        "**OPERADORES**:  +, -, *, /, ** potencia, % que da como resultado el resto de una división  (), =, ==, <=, >, >= ... \n",
        "    LOGICOS: OR, AND \n",
        "\n",
        "**BUCLES** for, while, \n",
        "\n",
        "**LLAMADAS** A FUNCIONES: variable = unafunción(x)  --> Si x es 11, varibale = \"superior\"\n",
        "\n",
        "    def unafuncion(x):\n",
        "        if x > 10:\n",
        "            y = \"superior\"\n",
        "        else:\n",
        "            y = \"inferior\"\n",
        "        return y\n",
        "        \n",
        "LIBRERIAS: como por ejemplo math para usar pi, sin, cos...."
      ]
    },
    {
      "cell_type": "code",
      "metadata": {
        "id": "42ljdIX0BvBz",
        "outputId": "5063c9a4-def6-4505-ee29-ecd0c1bfb97c",
        "colab": {
          "base_uri": "https://localhost:8080/",
          "height": 34
        }
      },
      "source": [
        "def libras_a_gramos(libras):\n",
        "  #recibe libras en la varibale de entrada, creo una varibale que sean gramos, multiplico por el valor de gramos de una libra y devuelvo el resultado\n",
        "  gramos = 453.59237 * libras \n",
        "  return gramos \n",
        "\n",
        "print(libras_a_gramos(9))"
      ],
      "execution_count": null,
      "outputs": [
        {
          "output_type": "stream",
          "text": [
            "4082.33133\n"
          ],
          "name": "stdout"
        }
      ]
    },
    {
      "cell_type": "code",
      "metadata": {
        "id": "C9Ij3tYtDaGM",
        "outputId": "cd44702c-35dd-4b19-a546-c55ea2369e51",
        "colab": {
          "base_uri": "https://localhost:8080/",
          "height": 34
        }
      },
      "source": [
        "import math\n",
        "def declinacion(dia):\n",
        "  d = 23.45 * math.sin(((2*math.pi) * (dia + 284))/365)\n",
        "  return d\n",
        "\n",
        "print(declinacion(300))"
      ],
      "execution_count": null,
      "outputs": [
        {
          "output_type": "stream",
          "text": [
            "-13.783564166258486\n"
          ],
          "name": "stdout"
        }
      ]
    },
    {
      "cell_type": "code",
      "metadata": {
        "id": "IrkTqAAoH_kt",
        "outputId": "d2fc0c15-b7ca-4b25-d350-b7d7691fa29b",
        "colab": {
          "base_uri": "https://localhost:8080/",
          "height": 34
        }
      },
      "source": [
        "import math\n",
        "def area_jardin(r):\n",
        "  diam = 2 * r\n",
        "  areacu = (diam**2)/2\n",
        "  areaci = (math.pi)*(r**2)\n",
        "  return areaci - areacu\n",
        "\n",
        "print(area_jardin(12))\n",
        "\n"
      ],
      "execution_count": null,
      "outputs": [
        {
          "output_type": "stream",
          "text": [
            "164.3893421169302\n"
          ],
          "name": "stdout"
        }
      ]
    },
    {
      "cell_type": "code",
      "metadata": {
        "id": "H6_kLHsgMUnA",
        "outputId": "af5638e3-0ceb-47cf-e476-c4dd9f44b292",
        "colab": {
          "base_uri": "https://localhost:8080/",
          "height": 34
        }
      },
      "source": [
        "import math\n",
        "def area_jardin(r):\n",
        "    A_jardin = (math.pi)*(r**2) - 2*(r**2)\n",
        "    return A_jardin\n",
        "\n",
        "print(area_jardin(12))"
      ],
      "execution_count": null,
      "outputs": [
        {
          "output_type": "stream",
          "text": [
            "164.3893421169302\n"
          ],
          "name": "stdout"
        }
      ]
    },
    {
      "cell_type": "code",
      "metadata": {
        "id": "5D4Io9pANt-W",
        "outputId": "86886f54-2791-44d5-8b21-c159b873ed16",
        "colab": {
          "base_uri": "https://localhost:8080/",
          "height": 72
        }
      },
      "source": [
        "g = 50\n",
        "def una():\n",
        "  x = 10+2\n",
        "  return x\n",
        "\n",
        "def dos(entrada):\n",
        "  x = una()\n",
        "  y = 2*x\n",
        "  return y\n",
        "\n",
        "def tres():\n",
        "  x = 2\n",
        "  y = g * x\n",
        "  return y\n",
        "\n",
        "print(una())\n",
        "print(dos(2))\n",
        "print(tres())"
      ],
      "execution_count": null,
      "outputs": [
        {
          "output_type": "stream",
          "text": [
            "12\n",
            "24\n",
            "100\n"
          ],
          "name": "stdout"
        }
      ]
    },
    {
      "cell_type": "code",
      "metadata": {
        "id": "tOl4VDKU5Pwh",
        "outputId": "0ed5c3f7-f608-4420-bf4c-5d883886d799",
        "colab": {
          "base_uri": "https://localhost:8080/",
          "height": 35
        }
      },
      "source": [
        "def consultaedad(edad):\n",
        "  resultado = \"\"\n",
        "  if edad >= 30:\n",
        "    resultado = \"viejo\"\n",
        "  else:\n",
        "    resultado =\"joven\"\n",
        "  return resultado\n",
        "\n",
        "print(consultaedad(29))"
      ],
      "execution_count": null,
      "outputs": [
        {
          "output_type": "stream",
          "text": [
            "joven\n"
          ],
          "name": "stdout"
        }
      ]
    },
    {
      "cell_type": "code",
      "metadata": {
        "id": "_Zut-46y-22K",
        "outputId": "323c5d96-d6f7-4bfe-f09f-d0800a6d9968",
        "colab": {
          "base_uri": "https://localhost:8080/",
          "height": 72
        }
      },
      "source": [
        "# Dado que %  da como resultado el resto de una división Ej: if numero%2 da como resultado 0 --> \n",
        "#crear un programa que dado un numero nos diga si es par o impar \n",
        "\n",
        "print(7%2)\n",
        "print(7/2)\n",
        "\n",
        "def par_o_impar(x):\n",
        "    if x%2 == 0:\n",
        "        return(\"es un numero par\")\n",
        "    else: \n",
        "        return(\"IMPAR\")\n",
        "\n",
        "print(par_o_impar(7))\n"
      ],
      "execution_count": null,
      "outputs": [
        {
          "output_type": "stream",
          "text": [
            "1\n",
            "3.5\n",
            "IMPAR\n"
          ],
          "name": "stdout"
        }
      ]
    }
  ]
}