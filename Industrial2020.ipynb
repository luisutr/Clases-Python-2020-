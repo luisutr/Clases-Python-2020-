{
  "nbformat": 4,
  "nbformat_minor": 0,
  "metadata": {
    "colab": {
      "name": "Industrial2020.ipynb",
      "provenance": [],
      "authorship_tag": "ABX9TyMumNQFrgi68CNE+cVAXTbB",
      "include_colab_link": true
    },
    "kernelspec": {
      "name": "python3",
      "display_name": "Python 3"
    }
  },
  "cells": [
    {
      "cell_type": "markdown",
      "metadata": {
        "id": "view-in-github",
        "colab_type": "text"
      },
      "source": [
        "<a href=\"https://colab.research.google.com/github/luisutr/Clases-Python-2020-/blob/main/Industrial2020.ipynb\" target=\"_parent\"><img src=\"https://colab.research.google.com/assets/colab-badge.svg\" alt=\"Open In Colab\"/></a>"
      ]
    },
    {
      "cell_type": "code",
      "metadata": {
        "id": "eW3Z6L2oVtJW",
        "outputId": "76d246d5-34f8-4fa8-8798-4642a3996534",
        "colab": {
          "base_uri": "https://localhost:8080/",
          "height": 417
        }
      },
      "source": [
        "def programarepaso(texto):\n",
        "  # listas \n",
        "  # sumatorio\n",
        "  # bucles \n",
        "  # cadenas texto \n",
        "  # rage\n",
        "  # tuplas\n",
        "  # print \n",
        "  # condicionales if, else ifelse\n",
        "  # dicc\n",
        "  # conversion de tipos de varibale \n",
        "  # split\n",
        "  lista=[]\n",
        "  for letra in texto:\n",
        "    lista.append(letra)\n",
        "  \n",
        "  for posicion in range(len(texto)):\n",
        "    if posicion == 2 or posicion%2 == 0:\n",
        "      print(texto[posicion])\n",
        "\n",
        "  print(texto[3])\n",
        "  print(texto[3:-1])\n",
        "\n",
        "  #partir un texto por su caracter delimitador \n",
        "  lista2 = texto.split(\",\")\n",
        "  sumatorio = 0\n",
        "  for n in texto:\n",
        "    sumatorio+=1 \n",
        "  for posicion in range(len(texto)):\n",
        "    sumatorio = posicion+1\n",
        "  print(sumatorio)\n",
        "  if sumatorio > 30:\n",
        "    print(\"cadena larga\")\n",
        "  elif sumatorio < 30:\n",
        "    print(\"cadena larga\")\n",
        "  else:\n",
        "    print(\"cadena justa\") \n",
        "\n",
        "  #conversiones de tipo \n",
        "  listacaracter = []\n",
        "  for caracter in texto:\n",
        "    if caracter in [\"0\", \"1\", \"2\",\"3\",\"4\",\"5\",\"6\",\"7\",\"8\",\"9\"]:\n",
        "      listacaracter.append(int(caracter))\n",
        "  print(listacaracter)\n",
        "  return lista, lista2\n",
        "  \n",
        "print(programarepaso(\"ejemplo 1, ejemplo 2, ejemplo 3\"))"
      ],
      "execution_count": 25,
      "outputs": [
        {
          "output_type": "stream",
          "text": [
            "e\n",
            "e\n",
            "p\n",
            "o\n",
            "1\n",
            " \n",
            "j\n",
            "m\n",
            "l\n",
            " \n",
            ",\n",
            "e\n",
            "e\n",
            "p\n",
            "o\n",
            "3\n",
            "m\n",
            "mplo 1, ejemplo 2, ejemplo \n",
            "31\n",
            "cadena larga\n",
            "[1, 2, 3]\n",
            "(['e', 'j', 'e', 'm', 'p', 'l', 'o', ' ', '1', ',', ' ', 'e', 'j', 'e', 'm', 'p', 'l', 'o', ' ', '2', ',', ' ', 'e', 'j', 'e', 'm', 'p', 'l', 'o', ' ', '3'], ['ejemplo 1', ' ejemplo 2', ' ejemplo 3'])\n"
          ],
          "name": "stdout"
        }
      ]
    },
    {
      "cell_type": "code",
      "metadata": {
        "id": "-F9f4xrXjF6e",
        "outputId": "ed16d06d-4f9b-4197-c52a-51a2b09f53b7",
        "colab": {
          "base_uri": "https://localhost:8080/",
          "height": 35
        }
      },
      "source": [
        "def anos(cadena):\n",
        "    r=[]\n",
        "    suma=[]\n",
        "    lista = cadena.split(',')\n",
        "    for i in lista:\n",
        "        r.append(int(i))\n",
        "    for i in r:\n",
        "        s = i+2\n",
        "        suma.append(s)\n",
        "    return suma\n",
        "print(anos('1982, 1990,1993,2001,2008,2019'))"
      ],
      "execution_count": 26,
      "outputs": [
        {
          "output_type": "stream",
          "text": [
            "[1984, 1992, 1995, 2003, 2010, 2021]\n"
          ],
          "name": "stdout"
        }
      ]
    },
    {
      "cell_type": "code",
      "metadata": {
        "id": "NC5mgO5wkoUX",
        "outputId": "c1a3800a-d22a-4599-d905-d0dcfab56b3a",
        "colab": {
          "base_uri": "https://localhost:8080/",
          "height": 54
        }
      },
      "source": [
        "\"\"\"\n",
        "un programa que recibe una variable de \n",
        "entrada que es una cadena de texto como la \n",
        "siguiente:\n",
        "\"1980, 1982, 1990, 1995, 2001, 2008, 2019\"\n",
        "split [\"1980\", \"1982\", \"1990\", \"1995\", \"2001\", \"2008\", \"2019\"]\n",
        "convertir a enteros \n",
        "\trecorro, me va a hacer falta otra lista para guardarlo \n",
        "\tsegun recorro, convirtiendo con int() y guardando en la nueva lista\n",
        "sumar dos a cada\n",
        "\trecorro, me va a hacer falta otra para guardarlo \n",
        "\tsegun recorro, sumo dos a cada y guardando en la nueva lista\n",
        "\n",
        "devuelvo la ultima lista creada\n",
        "\"\"\"\n",
        "\n",
        "def sumados(texto):\n",
        "  lista = texto.split(\",\")\n",
        "  lista2 = []\n",
        "  for i in lista:\n",
        "    lista2.append(int(i))\n",
        "  lista3 = []\n",
        "  for i in lista2:\n",
        "    lista3.append(i+2)\n",
        "\n",
        "  otraveztexto = \"\"\n",
        "  for i in lista3:\n",
        "    otraveztexto += str(i)+\",\"\n",
        "  print(otraveztexto[:-1])\n",
        "  \n",
        "  return lista3\n",
        "print(sumados('1982, 1990,1993,2001,2008,2019'))"
      ],
      "execution_count": 28,
      "outputs": [
        {
          "output_type": "stream",
          "text": [
            "1984,1992,1995,2003,2010,2021\n",
            "[1984, 1992, 1995, 2003, 2010, 2021]\n"
          ],
          "name": "stdout"
        }
      ]
    }
  ]
}