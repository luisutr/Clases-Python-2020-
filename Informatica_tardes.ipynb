{
  "nbformat": 4,
  "nbformat_minor": 0,
  "metadata": {
    "colab": {
      "name": "Informatica_tardes.ipynb",
      "provenance": [],
      "authorship_tag": "ABX9TyOCq2YIYz4+iFpki60H0/9M",
      "include_colab_link": true
    },
    "kernelspec": {
      "name": "python3",
      "display_name": "Python 3"
    }
  },
  "cells": [
    {
      "cell_type": "markdown",
      "metadata": {
        "id": "view-in-github",
        "colab_type": "text"
      },
      "source": [
        "<a href=\"https://colab.research.google.com/github/luisutr/Clases-Python-2020-/blob/main/Informatica_tardes.ipynb\" target=\"_parent\"><img src=\"https://colab.research.google.com/assets/colab-badge.svg\" alt=\"Open In Colab\"/></a>"
      ]
    },
    {
      "cell_type": "markdown",
      "metadata": {
        "id": "c8n_jz10CkUf"
      },
      "source": [
        "# Esta es la primera hoja del Proyecto "
      ]
    },
    {
      "cell_type": "code",
      "metadata": {
        "id": "wQsr3CMVCfKd"
      },
      "source": [
        ""
      ],
      "execution_count": null,
      "outputs": []
    }
  ]
}