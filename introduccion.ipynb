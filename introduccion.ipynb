{
  "nbformat": 4,
  "nbformat_minor": 0,
  "metadata": {
    "colab": {
      "name": "introduccion.ipynb",
      "provenance": [],
      "authorship_tag": "ABX9TyNW6qdIS8PFBTuvZFlDhAai",
      "include_colab_link": true
    },
    "kernelspec": {
      "name": "python3",
      "display_name": "Python 3"
    }
  },
  "cells": [
    {
      "cell_type": "markdown",
      "metadata": {
        "id": "view-in-github",
        "colab_type": "text"
      },
      "source": [
        "<a href=\"https://colab.research.google.com/github/luisutr/Clases-Python-2020-/blob/main/introduccion.ipynb\" target=\"_parent\"><img src=\"https://colab.research.google.com/assets/colab-badge.svg\" alt=\"Open In Colab\"/></a>"
      ]
    },
    {
      "cell_type": "code",
      "metadata": {
        "id": "O3RUdwVTWU3U"
      },
      "source": [
        ""
      ],
      "execution_count": null,
      "outputs": []
    },
    {
      "cell_type": "markdown",
      "metadata": {
        "id": "dxAvQ8SqWd5S"
      },
      "source": [
        "PSEUDOCODIGO: Hacer el programa en lenguaje castellano !! con  nuestras palabras. (logica) y despues lo traducis a Python \n",
        "\n",
        "DEBEMOS SER MERAMENTE ESCRUPULOSOS CON LA SINTAXIS\n",
        "\n",
        "**FUNCIONES**: Lo que encapsula el código \n",
        "\n",
        "    **ENTRADAS**: argumentos de entrada, o que el mismo programa pueda leer datos de algun sitio \n",
        "    \n",
        "    **SALIDAS**: Pueden ser que se muestren (resultado) puden ser devueltas a otra función \n",
        "\n",
        "**VARIBALES**: Guarda la información (distintos tipos int, string, boolean, float... )\n",
        "    - conjutnos de variables (list, dicc, tuplas)\n",
        "\n",
        "**CONDICIONALES**: if, else, elseif  ( si una variable x toma un valor superior a 10 entonces a otra variable y le asingo un valor)\n",
        "\n",
        "**OPERADORES**:  +, -, *, /, ** potencia, % que da como resultado el resto de una división  (), =, ==, <=, >, >= ... \n",
        "    LOGICOS: OR, AND \n",
        "\n",
        "**BUCLES** for, while, \n",
        "\n",
        "**LLAMADAS** A FUNCIONES: variable = unafunción(x)  --> Si x es 11, varibale = \"superior\"\n",
        "\n",
        "    def unafuncion(x):\n",
        "        if x > 10:\n",
        "            y = \"superior\"\n",
        "        else:\n",
        "            y = \"inferior\"\n",
        "        return y\n",
        "        \n",
        "LIBRERIAS: como por ejemplo math para usar pi, sin, cos...."
      ]
    }
  ]
}